{
 "cells": [
  {
   "cell_type": "markdown",
   "source": [
    "# Session 12"
   ],
   "metadata": {}
  },
  {
   "cell_type": "code",
   "execution_count": 1,
   "source": [
    "from polygon import Polygon\n",
    "from polygon_seq import PolygonSeq"
   ],
   "outputs": [],
   "metadata": {}
  },
  {
   "cell_type": "markdown",
   "source": [
    "## Goal 1 - Polygon"
   ],
   "metadata": {}
  },
  {
   "cell_type": "code",
   "execution_count": 2,
   "source": [
    "p1 = Polygon(3, 5)\n",
    "p2 = Polygon(4, 5)\n",
    "\n",
    "print(p1)\n",
    "print(p2)"
   ],
   "outputs": [
    {
     "output_type": "stream",
     "name": "stdout",
     "text": [
      "Polygon(vertices=3, radius=5)\n",
      "Polygon(vertices=4, radius=5)\n"
     ]
    }
   ],
   "metadata": {}
  },
  {
   "cell_type": "code",
   "execution_count": 3,
   "source": [
    "print(p1 == p2)\n",
    "print(p1 > p2)"
   ],
   "outputs": [
    {
     "output_type": "stream",
     "name": "stdout",
     "text": [
      "False\n",
      "False\n"
     ]
    }
   ],
   "metadata": {}
  },
  {
   "cell_type": "code",
   "execution_count": 4,
   "source": [
    "print(f\"num_vertices = {p1.num_vertices}\")\n",
    "print(f\"circum_radius = {p1.circum_radius}\")\n",
    "print(f\"interior_angle = {p1.interior_angle}\")\n",
    "print(f\"edge_length = {p1.edge_length}\")\n",
    "print(f\"apothem = {p1.apothem}\")\n",
    "print(f\"area = {p1.area}\")\n",
    "print(f\"perimeter = {p1.perimeter}\")"
   ],
   "outputs": [
    {
     "output_type": "stream",
     "name": "stdout",
     "text": [
      "num_vertices = 3\n",
      "circum_radius = 5\n",
      "interior_angle = 60.0\n",
      "edge_length = 8.660254037844386\n",
      "apothem = 2.5000000000000004\n",
      "area = 32.47595264191645\n",
      "perimeter = 25.980762113533157\n"
     ]
    }
   ],
   "metadata": {}
  },
  {
   "cell_type": "markdown",
   "source": [
    "## Goal 2 - Polygon Sequence"
   ],
   "metadata": {}
  },
  {
   "cell_type": "code",
   "execution_count": 5,
   "source": [
    "ps = PolygonSeq(vertices=25, radius=20)\n",
    "print(ps)\n",
    "print(list(ps))"
   ],
   "outputs": [
    {
     "output_type": "stream",
     "name": "stdout",
     "text": [
      "PolygonSeq(vertices: (1, 25),radius=20)\n",
      "[Polygon(3, 20), Polygon(4, 20), Polygon(5, 20), Polygon(6, 20), Polygon(7, 20), Polygon(8, 20), Polygon(9, 20), Polygon(10, 20), Polygon(11, 20), Polygon(12, 20), Polygon(13, 20), Polygon(14, 20), Polygon(15, 20), Polygon(16, 20), Polygon(17, 20), Polygon(18, 20), Polygon(19, 20), Polygon(20, 20), Polygon(21, 20), Polygon(22, 20), Polygon(23, 20), Polygon(24, 20), Polygon(25, 20)]\n"
     ]
    }
   ],
   "metadata": {}
  },
  {
   "cell_type": "code",
   "execution_count": 6,
   "source": [
    "print(ps[1])\n",
    "print(ps[2])"
   ],
   "outputs": [
    {
     "output_type": "stream",
     "name": "stdout",
     "text": [
      "Polygon(vertices=4, radius=20)\n",
      "Polygon(vertices=5, radius=20)\n"
     ]
    }
   ],
   "metadata": {}
  },
  {
   "cell_type": "code",
   "execution_count": 7,
   "source": [
    "print(f\"Max efficiency = {ps.get_maxeff_poly()}\")"
   ],
   "outputs": [
    {
     "output_type": "stream",
     "name": "stdout",
     "text": [
      "Max efficiency = (9.921147013144779, Polygon(25, 20))\n"
     ]
    }
   ],
   "metadata": {}
  },
  {
   "cell_type": "code",
   "execution_count": 8,
   "source": [
    "print([i for i in iter(ps)])"
   ],
   "outputs": [
    {
     "output_type": "stream",
     "name": "stdout",
     "text": [
      "[Polygon(3, 20), Polygon(4, 20), Polygon(5, 20), Polygon(6, 20), Polygon(7, 20), Polygon(8, 20), Polygon(9, 20), Polygon(10, 20), Polygon(11, 20), Polygon(12, 20), Polygon(13, 20), Polygon(14, 20), Polygon(15, 20), Polygon(16, 20), Polygon(17, 20), Polygon(18, 20), Polygon(19, 20), Polygon(20, 20), Polygon(21, 20), Polygon(22, 20), Polygon(23, 20), Polygon(24, 20), Polygon(25, 20)]\n"
     ]
    }
   ],
   "metadata": {}
  },
  {
   "cell_type": "code",
   "execution_count": null,
   "source": [],
   "outputs": [],
   "metadata": {}
  }
 ],
 "metadata": {
  "orig_nbformat": 4,
  "language_info": {
   "name": "python",
   "version": "3.9.5",
   "mimetype": "text/x-python",
   "codemirror_mode": {
    "name": "ipython",
    "version": 3
   },
   "pygments_lexer": "ipython3",
   "nbconvert_exporter": "python",
   "file_extension": ".py"
  },
  "kernelspec": {
   "name": "python3",
   "display_name": "Python 3.9.5 64-bit ('arena_py': conda)"
  },
  "interpreter": {
   "hash": "d54ce1219b76baabbc22c6d2872f99a448dba77d94717023230c327a3d3694f4"
  }
 },
 "nbformat": 4,
 "nbformat_minor": 2
}